{
 "cells": [
  {
   "cell_type": "code",
   "execution_count": 2,
   "metadata": {},
   "outputs": [],
   "source": [
    "import requests\n",
    "import cv2\n",
    "import sys\n",
    "import warnings\n",
    "\n",
    "import scholarly as slr\n",
    "import networkx as nx\n",
    "import matplotlib.pyplot as plt\n",
    "import numpy as np\n",
    "\n",
    "from PIL import Image\n",
    "from io import BytesIO\n",
    "from networkx.drawing.nx_pydot import write_dot\n",
    "\n",
    "warnings.filterwarnings('ignore')\n",
    "\n",
    "%matplotlib inline"
   ]
  },
  {
   "cell_type": "code",
   "execution_count": 13,
   "metadata": {
    "collapsed": true
   },
   "outputs": [],
   "source": [
    "class ImageToFace:\n",
    "    def __init__(self):\n",
    "        # Model parameters\n",
    "        dir_path = \"/usr/local/Cellar/opencv/2.4.13.2/share/OpenCV/haarcascades\"\n",
    "        filename = \"haarcascade_frontalface_default.xml\" # for frontal faces\n",
    "        #filename = \"haarcascade_profileface.xml\" # for profile faces\n",
    "        model_path = dir_path + \"/\" + filename\n",
    "\n",
    "        # Create the classifier\n",
    "        self.clf = cv2.CascadeClassifier(model_path)\n",
    "        \n",
    "    def get_face(self, img):\n",
    "        image = np.array(img.convert('RGB'))[:,:,::-1]\n",
    "        gray = cv2.cvtColor(image, cv2.COLOR_BGR2GRAY)\n",
    "\n",
    "        # Detect faces on image\n",
    "        faces = self.clf.detectMultiScale(\n",
    "            gray,\n",
    "            scaleFactor=1.1,\n",
    "            minNeighbors=5,\n",
    "            minSize=(30, 30),\n",
    "            flags=cv2.CASCADE_SCALE_IMAGE\n",
    "        )\n",
    "        \n",
    "        x, y, w, h = faces[0]\n",
    "        \n",
    "        return Image.fromarray(cv2.cvtColor(image[y:y+h, x:x+w], cv2.COLOR_BGR2RGB))\n",
    "    \n",
    "imtf = ImageToFace()\n",
    "\n",
    "get_face = imtf.get_face"
   ]
  },
  {
   "cell_type": "code",
   "execution_count": null,
   "metadata": {
    "collapsed": true
   },
   "outputs": [],
   "source": [
    "class GoogleNetwork:\n",
    "    def __init__(self):\n",
    "        self.site_prefix = 'https://scholar.google.com'\n",
    "        self.network = {}\n",
    "        self.names = {}\n",
    "        \n",
    "    def add_node(self, G, author_name):\n",
    "        author_info = next(slr.search_author(author_name)).fill()\n",
    "        \n",
    "        if author_info.id in self.network:\n",
    "            return\n",
    "        \n",
    "        self.network[author_info.id] = author_info\n",
    "        self.network[author_name] = author_info.id\n",
    "        self.network[author_info.name] = author_info.id\n",
    "\n",
    "        G.add_node(author_info)\n",
    "        \n",
    "        author_avatar_url = self.site_prefix + author_info.url_picture\n",
    "        response = requests.get(author_avatar_url)\n",
    "        img = Image.open(BytesIO(response.content))\n",
    "        G.node[author_info]['image'] = get_face(img)\n",
    "        \n",
    "        G.node[author_info]['co-authors'] = []\n",
    "        for pub in author_info.publications:\n",
    "            pub.fill() \n",
    "            # could be repeats including author himself\n",
    "            G.node[author_info]['co-authors'] += pub.bib['author'].split(' and ')\n",
    "            \n",
    "        "
   ]
  },
  {
   "cell_type": "code",
   "execution_count": 33,
   "metadata": {
    "collapsed": true
   },
   "outputs": [],
   "source": [
    "G = nx.Graph()"
   ]
  },
  {
   "cell_type": "code",
   "execution_count": 71,
   "metadata": {},
   "outputs": [
    {
     "data": {
      "image/png": "[encoded data removed]",
      "text/plain": [
       "<matplotlib.figure.Figure at 0x1134f6080>"
      ]
     },
     "metadata": {},
     "output_type": "display_data"
    }
   ],
   "source": [
    "pos = nx.spring_layout(G)\n",
    "fig = plt.figure(figsize=(7,7))\n",
    "ax = plt.subplot(111)\n",
    "ax.set_aspect('equal')\n",
    "nx.draw_networkx_edges(G, pos, ax=ax)\n",
    "\n",
    "plt.axis('off')\n",
    "\n",
    "trans = ax.transData.transform\n",
    "trans2 = fig.transFigure.inverted().transform\n",
    "\n",
    "piesize = 0.1 # this is the image size\n",
    "p2 = piesize / 2.0\n",
    "for n in G:\n",
    "    xx, yy = trans(pos[n]) # figure coordinates\n",
    "    xa, ya = trans2((xx, yy)) # axes coordinates\n",
    "    a = plt.axes([xa - p2, ya - p2, piesize, piesize])\n",
    "    a.set_aspect('equal')\n",
    "    a.imshow(G.node[n]['image'])\n",
    "    a.axis('off')"
   ]
  },
  {
   "cell_type": "code",
   "execution_count": null,
   "metadata": {
    "collapsed": true
   },
   "outputs": [],
   "source": []
  }
 ],
 "metadata": {
  "kernelspec": {
   "display_name": "Python 3",
   "language": "python",
   "name": "python3"
  },
  "language_info": {
   "codemirror_mode": {
    "name": "ipython",
    "version": 3
   },
   "file_extension": ".py",
   "mimetype": "text/x-python",
   "name": "python",
   "nbconvert_exporter": "python",
   "pygments_lexer": "ipython3",
   "version": "3.6.1"
  }
 },
 "nbformat": 4,
 "nbformat_minor": 2
}
