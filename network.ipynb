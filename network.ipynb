{
 "cells": [
  {
   "cell_type": "code",
   "execution_count": 43,
   "metadata": {
    "collapsed": true
   },
   "outputs": [],
   "source": [
    "import requests\n",
    "import cv2\n",
    "import warnings\n",
    "import urllib.request, json\n",
    "\n",
    "import scholarly as slr\n",
    "import networkx as nx\n",
    "import matplotlib.pyplot as plt\n",
    "import numpy as np\n",
    "\n",
    "from PIL import Image\n",
    "from io import BytesIO\n",
    "from math import ceil\n",
    "\n",
    "# warnings.filterwarnings('ignore')\n",
    "\n",
    "%matplotlib inline\n",
    "\n",
    "ROWS = 1000"
   ]
  },
  {
   "cell_type": "code",
   "execution_count": 2,
   "metadata": {
    "collapsed": true
   },
   "outputs": [],
   "source": [
    "class ImageToFace:\n",
    "    def __init__(self):\n",
    "        # Model parameters\n",
    "        dir_path = \"/usr/local/Cellar/opencv/2.4.13.2/share/OpenCV/haarcascades\"\n",
    "        filename = \"haarcascade_frontalface_default.xml\" # for frontal faces\n",
    "        #filename = \"haarcascade_profileface.xml\" # for profile faces\n",
    "        model_path = dir_path + \"/\" + filename\n",
    "\n",
    "        # Create the classifier\n",
    "        self.clf = cv2.CascadeClassifier(model_path)\n",
    "        \n",
    "    def get_face(self, img):\n",
    "        image = np.array(img.convert('RGB'))[:,:,::-1]\n",
    "        gray = cv2.cvtColor(image, cv2.COLOR_BGR2GRAY)\n",
    "\n",
    "        # Detect faces on image\n",
    "        faces = self.clf.detectMultiScale(\n",
    "            gray,\n",
    "            scaleFactor=1.1,\n",
    "            minNeighbors=5,\n",
    "            minSize=(30, 30),\n",
    "            flags=cv2.CASCADE_SCALE_IMAGE\n",
    "        )\n",
    "        \n",
    "        if len(faces) > 0:\n",
    "            x, y, w, h = faces[0]\n",
    "        else:\n",
    "            return img\n",
    "        \n",
    "        return Image.fromarray(cv2.cvtColor(image[y:y+h, x:x+w], cv2.COLOR_BGR2RGB))\n",
    "    \n",
    "imtf = ImageToFace()\n",
    "\n",
    "get_face = imtf.get_face"
   ]
  },
  {
   "cell_type": "code",
   "execution_count": 32,
   "metadata": {
    "collapsed": true
   },
   "outputs": [],
   "source": [
    "class FakeInfo:\n",
    "    def __init__(self, name):\n",
    "        self.name = name\n",
    "        self.id = hash(name)\n",
    "        self.url_picture = '/citations/images/avatar_scholar_128.jpg'\n",
    "        \n",
    "    def fill(self):\n",
    "        self.publications = []"
   ]
  },
  {
   "cell_type": "code",
   "execution_count": 47,
   "metadata": {
    "collapsed": true
   },
   "outputs": [],
   "source": [
    "class GoogleNetwork:\n",
    "    def __init__(self):\n",
    "        self.site_prefix = 'https://scholar.google.com'\n",
    "        self.id_info = {}\n",
    "        self.name_id = {}\n",
    "    \n",
    "    def split_full_name(self, author_name):\n",
    "        full_name = author_name.split(' ')\n",
    "        return full_name[:-1], full_name[-1]\n",
    "    \n",
    "    def possible_names(self, names, surname): # Name Middle Surname\n",
    "        result = []\n",
    "        for name in names:\n",
    "            result += [name+' '+surname, name[0]+' '+surname, name[0]+'. '+surname]\n",
    "        return result\n",
    "    \n",
    "    def get_info(self, author_name):\n",
    "        names, surname = self.split_full_name(author_name)\n",
    "        \n",
    "        for name in self.possible_names(names, surname):\n",
    "            if name in self.name_id:\n",
    "                print('\\t {} is already in the database.'.format(author_name))\n",
    "                if author_name not in self.name_id:\n",
    "                    for other_name in self.possible_names(names, surname):\n",
    "                        self.name_id[other_name] = self.name_id[name]\n",
    "                return self.id_info[self.name_id[name]]\n",
    "        try:\n",
    "            print('\\t Searching {} in google scholar.'.format(author_name))\n",
    "            query = slr.search_author(surname)\n",
    "            while True:\n",
    "                author_info = next(query)\n",
    "                found = False\n",
    "                for name in names:\n",
    "                    if name in author_info.name:\n",
    "                        found = True\n",
    "                if found:\n",
    "                    break\n",
    "        except:\n",
    "            print('\\t \\t No match, creating fake id.')\n",
    "            author_info = FakeInfo(author_name)\n",
    "\n",
    "        print('\\t Adding {} in database.'.format(author_name))\n",
    "\n",
    "        self.id_info[author_info.id] = author_info\n",
    "\n",
    "        for name in self.possible_names(names, surname):\n",
    "            self.name_id[name] = author_info.id\n",
    "\n",
    "        if author_name != author_info.name:\n",
    "            for name in self.possible_names(*self.split_full_name(author_info.name)):\n",
    "                self.name_id[name] = author_info.id\n",
    "            \n",
    "        return author_info\n",
    "        \n",
    "    def add_author(self, G, author_name):\n",
    "        print('Adding {}:'.format(author_name))\n",
    "        \n",
    "        author_info = self.get_info(author_name)\n",
    "        \n",
    "        if author_info.id in G.nodes():\n",
    "            print('\\t Author id is already in the network.')            \n",
    "            return\n",
    "        \n",
    "        print('\\t Adding {} to network.'.format(author_name))\n",
    "        G.add_node(author_info.id)\n",
    "        \n",
    "        response = requests.get(self.site_prefix + author_info.url_picture)\n",
    "        img = Image.open(BytesIO(response.content))\n",
    "        G.node[author_info.id]['image'] = get_face(img)\n",
    "                \n",
    "    def add_coauthors(self, G, author_name):\n",
    "        print(\"Adding {}'s co-authors:\".format(author_name))\n",
    "        author_info = self.id_info[self.name_id[author_name]]\n",
    "        author_id = author_info.id\n",
    "        author_info.fill()\n",
    "        \n",
    "        G.node[author_id]['co-authors'] = set()\n",
    "        \n",
    "        # Google Scholar\n",
    "        \n",
    "        for pub in author_info.publications:\n",
    "            pub.fill()\n",
    "            union = G.node[author_id]['co-authors'].union(pub.bib['author'].split(' and '))\n",
    "            G.node[author_id]['co-authors'] = union\n",
    "        \n",
    "        # Crossref\n",
    "        \n",
    "        names, surname = self.split_full_name(author_name)\n",
    "        with urllib.request.urlopen('https://api.crossref.org/works?query.author={}&rows=0'.format(surname)) as url:\n",
    "            data = json.loads(url.read().decode())\n",
    "        \n",
    "        for i in range(ceil(data['message']['total-results'] / ROWS)):\n",
    "            with urllib.request.urlopen(\n",
    "                'https://api.crossref.org/works?query.author={s}&rows={r}&offset={of}'.format(s=surname, r=ROWS,\n",
    "                                                                                             of=i*ROWS)) as url:\n",
    "                data = json.loads(url.read().decode())\n",
    "\n",
    "            for pub in data['message']['items']:\n",
    "                for author in pub['author']:\n",
    "                    try:\n",
    "                        if surname in author['family']:\n",
    "                            for name in names:\n",
    "                                if len(name) > 1:\n",
    "                                    if name in author['family'] or name in author['given']:\n",
    "                                        for a in pub['author']:\n",
    "                                            G.node[author_id]['co-authors'].add(a['given'] + ' ' + a['family'])\n",
    "                    except:\n",
    "                        continue\n",
    "        \n",
    "        for coauthor_name in G.node[author_id]['co-authors']:\n",
    "            coauthor_info = self.get_info(coauthor_name)\n",
    "            \n",
    "            if coauthor_info.id != author_id:\n",
    "                self.add_author(G, coauthor_info.name)\n",
    "                print('\\t Addind connection between {a} and {c}.\\n'.format(a=author_name, c=coauthor_name))\n",
    "                G.add_edge(author_id, coauthor_info.id)"
   ]
  },
  {
   "cell_type": "code",
   "execution_count": 48,
   "metadata": {
    "collapsed": true
   },
   "outputs": [],
   "source": [
    "G = nx.Graph()"
   ]
  },
  {
   "cell_type": "code",
   "execution_count": 49,
   "metadata": {
    "collapsed": true
   },
   "outputs": [],
   "source": [
    "gn = GoogleNetwork()"
   ]
  },
  {
   "cell_type": "code",
   "execution_count": 52,
   "metadata": {},
   "outputs": [
    {
     "data": {
      "text/plain": [
       "{'A Alexeev': 8360796958314390197,\n",
       " 'A. Alexeev': 8360796958314390197,\n",
       " 'Arseny Alexeev': 8360796958314390197}"
      ]
     },
     "execution_count": 52,
     "metadata": {},
     "output_type": "execute_result"
    }
   ],
   "source": [
    "gn.name_id"
   ]
  },
  {
   "cell_type": "code",
   "execution_count": 51,
   "metadata": {},
   "outputs": [
    {
     "name": "stdout",
     "output_type": "stream",
     "text": [
      "Adding Arseny Alexeev:\n",
      "\t Searching Arseny Alexeev in google scholar.\n",
      "\t \t No match, creating fake id.\n",
      "\t Adding Arseny Alexeev in database.\n",
      "\t Adding Arseny Alexeev to network.\n"
     ]
    }
   ],
   "source": [
    "gn.add_author(G, 'Arseny Alexeev')"
   ]
  },
  {
   "cell_type": "code",
   "execution_count": 31,
   "metadata": {},
   "outputs": [
    {
     "name": "stdout",
     "output_type": "stream",
     "text": [
      "Adding Arseny Alexeev's co-authors:\n"
     ]
    },
    {
     "ename": "AttributeError",
     "evalue": "'Author' object has no attribute 'publications'",
     "output_type": "error",
     "traceback": [
      "\u001b[0;31m---------------------------------------------------------------------------\u001b[0m",
      "\u001b[0;31mAttributeError\u001b[0m                            Traceback (most recent call last)",
      "\u001b[0;32m<ipython-input-31-bb90a14b0482>\u001b[0m in \u001b[0;36m<module>\u001b[0;34m()\u001b[0m\n\u001b[0;32m----> 1\u001b[0;31m \u001b[0mgn\u001b[0m\u001b[0;34m.\u001b[0m\u001b[0madd_coauthors\u001b[0m\u001b[0;34m(\u001b[0m\u001b[0mG\u001b[0m\u001b[0;34m,\u001b[0m \u001b[0;34m'Arseny Alexeev'\u001b[0m\u001b[0;34m)\u001b[0m\u001b[0;34m\u001b[0m\u001b[0m\n\u001b[0m",
      "\u001b[0;32m<ipython-input-4-11dfd5133e3b>\u001b[0m in \u001b[0;36madd_coauthors\u001b[0;34m(self, G, author_name)\u001b[0m\n\u001b[1;32m     76\u001b[0m         \u001b[0mG\u001b[0m\u001b[0;34m.\u001b[0m\u001b[0mnode\u001b[0m\u001b[0;34m[\u001b[0m\u001b[0mauthor_id\u001b[0m\u001b[0;34m]\u001b[0m\u001b[0;34m[\u001b[0m\u001b[0;34m'co-authors'\u001b[0m\u001b[0;34m]\u001b[0m \u001b[0;34m=\u001b[0m \u001b[0mset\u001b[0m\u001b[0;34m(\u001b[0m\u001b[0;34m)\u001b[0m\u001b[0;34m\u001b[0m\u001b[0m\n\u001b[1;32m     77\u001b[0m \u001b[0;34m\u001b[0m\u001b[0m\n\u001b[0;32m---> 78\u001b[0;31m         \u001b[0;32mfor\u001b[0m \u001b[0mpub\u001b[0m \u001b[0;32min\u001b[0m \u001b[0mauthor_info\u001b[0m\u001b[0;34m.\u001b[0m\u001b[0mpublications\u001b[0m\u001b[0;34m:\u001b[0m\u001b[0;34m\u001b[0m\u001b[0m\n\u001b[0m\u001b[1;32m     79\u001b[0m             \u001b[0mpub\u001b[0m\u001b[0;34m.\u001b[0m\u001b[0mfill\u001b[0m\u001b[0;34m(\u001b[0m\u001b[0;34m)\u001b[0m\u001b[0;34m\u001b[0m\u001b[0m\n\u001b[1;32m     80\u001b[0m             \u001b[0munion\u001b[0m \u001b[0;34m=\u001b[0m \u001b[0mG\u001b[0m\u001b[0;34m.\u001b[0m\u001b[0mnode\u001b[0m\u001b[0;34m[\u001b[0m\u001b[0mauthor_id\u001b[0m\u001b[0;34m]\u001b[0m\u001b[0;34m[\u001b[0m\u001b[0;34m'co-authors'\u001b[0m\u001b[0;34m]\u001b[0m\u001b[0;34m.\u001b[0m\u001b[0munion\u001b[0m\u001b[0;34m(\u001b[0m\u001b[0mpub\u001b[0m\u001b[0;34m.\u001b[0m\u001b[0mbib\u001b[0m\u001b[0;34m[\u001b[0m\u001b[0;34m'author'\u001b[0m\u001b[0;34m]\u001b[0m\u001b[0;34m.\u001b[0m\u001b[0msplit\u001b[0m\u001b[0;34m(\u001b[0m\u001b[0;34m' and '\u001b[0m\u001b[0;34m)\u001b[0m\u001b[0;34m)\u001b[0m\u001b[0;34m\u001b[0m\u001b[0m\n",
      "\u001b[0;31mAttributeError\u001b[0m: 'Author' object has no attribute 'publications'"
     ]
    }
   ],
   "source": [
    "gn.add_coauthors(G, 'Arseny Alexeev')"
   ]
  },
  {
   "cell_type": "code",
   "execution_count": 30,
   "metadata": {},
   "outputs": [
    {
     "ename": "AttributeError",
     "evalue": "'Author' object has no attribute 'publications'",
     "output_type": "error",
     "traceback": [
      "\u001b[0;31m---------------------------------------------------------------------------\u001b[0m",
      "\u001b[0;31mAttributeError\u001b[0m                            Traceback (most recent call last)",
      "\u001b[0;32m<ipython-input-30-2b2c63cfc7ff>\u001b[0m in \u001b[0;36m<module>\u001b[0;34m()\u001b[0m\n\u001b[0;32m----> 1\u001b[0;31m \u001b[0;32mfor\u001b[0m \u001b[0mpub\u001b[0m \u001b[0;32min\u001b[0m \u001b[0mgn\u001b[0m\u001b[0;34m.\u001b[0m\u001b[0mid_info\u001b[0m\u001b[0;34m[\u001b[0m\u001b[0mgn\u001b[0m\u001b[0;34m.\u001b[0m\u001b[0mname_id\u001b[0m\u001b[0;34m[\u001b[0m\u001b[0;34m'A Alexeev'\u001b[0m\u001b[0;34m]\u001b[0m\u001b[0;34m]\u001b[0m\u001b[0;34m.\u001b[0m\u001b[0mpublications\u001b[0m\u001b[0;34m:\u001b[0m\u001b[0;34m\u001b[0m\u001b[0m\n\u001b[0m\u001b[1;32m      2\u001b[0m     \u001b[0mprint\u001b[0m\u001b[0;34m(\u001b[0m\u001b[0mpub\u001b[0m\u001b[0;34m)\u001b[0m\u001b[0;34m\u001b[0m\u001b[0m\n",
      "\u001b[0;31mAttributeError\u001b[0m: 'Author' object has no attribute 'publications'"
     ]
    }
   ],
   "source": [
    "for pub in gn.id_info[gn.name_id['A Alexeev']].publications:\n",
    "    print(pub)"
   ]
  },
  {
   "cell_type": "code",
   "execution_count": 11,
   "metadata": {
    "collapsed": true
   },
   "outputs": [],
   "source": [
    "for i in G[gn.name_id['A Alexeev']]:\n",
    "    print(gn.id_info[i].name)"
   ]
  },
  {
   "cell_type": "code",
   "execution_count": null,
   "metadata": {
    "collapsed": true
   },
   "outputs": [],
   "source": [
    "pos = nx.spring_layout(G)\n",
    "fig = plt.figure(figsize=(20,20))\n",
    "ax = plt.subplot(111)\n",
    "ax.set_aspect('equal')\n",
    "nx.draw_networkx_edges(G, pos, ax=ax)\n",
    "\n",
    "plt.axis('off')\n",
    "\n",
    "trans = ax.transData.transform\n",
    "trans2 = fig.transFigure.inverted().transform\n",
    "\n",
    "piesize = 0.05 # this is the image size\n",
    "p2 = piesize / 2.0\n",
    "for n in G:\n",
    "    xx, yy = trans(pos[n]) # figure coordinates\n",
    "    xa, ya = trans2((xx, yy)) # axes coordinates\n",
    "    a = plt.axes([xa - p2, ya - p2, piesize, piesize])\n",
    "    a.set_aspect('equal')\n",
    "    a.imshow(G.node[n]['image'])\n",
    "    a.annotate(gn.id_info[n].name, xy=(0, 0), horizontalalignment='left', verticalalignment='bottom')\n",
    "    a.axis('off')\n",
    "    \n",
    "plt.savefig('google-scholar-first-circle')"
   ]
  },
  {
   "cell_type": "code",
   "execution_count": null,
   "metadata": {
    "collapsed": true
   },
   "outputs": [],
   "source": []
  }
 ],
 "metadata": {
  "kernelspec": {
   "display_name": "Python 3",
   "language": "python",
   "name": "python3"
  },
  "language_info": {
   "codemirror_mode": {
    "name": "ipython",
    "version": 3
   },
   "file_extension": ".py",
   "mimetype": "text/x-python",
   "name": "python",
   "nbconvert_exporter": "python",
   "pygments_lexer": "ipython3",
   "version": "3.6.1"
  }
 },
 "nbformat": 4,
 "nbformat_minor": 2
}
